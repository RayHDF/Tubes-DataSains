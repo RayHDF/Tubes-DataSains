{
 "cells": [
  {
   "cell_type": "code",
   "execution_count": 1,
   "metadata": {},
   "outputs": [],
   "source": [
    "import pickle\n",
    "scaler = pickle.load(open('scaler.pkl', 'rb'))"
   ]
  },
  {
   "cell_type": "code",
   "execution_count": 4,
   "metadata": {},
   "outputs": [
    {
     "name": "stdout",
     "output_type": "stream",
     "text": [
      "[5.05921364e-01 2.43125999e+01 1.70167735e+00 8.65860581e+01\n",
      " 8.17621980e-01 8.83941260e-01 2.41904306e+00 2.68562805e+00\n",
      " 1.85930838e+00 2.08432023e-02 2.00801140e+00 4.54760777e-02\n",
      " 1.01029770e+00 6.57865924e-01 2.26859308e+00 2.36522975e+00]\n"
     ]
    }
   ],
   "source": [
    "# Display the scaler features\n",
    "\n"
   ]
  },
  {
   "cell_type": "code",
   "execution_count": null,
   "metadata": {},
   "outputs": [],
   "source": []
  }
 ],
 "metadata": {
  "kernelspec": {
   "display_name": "Python 3",
   "language": "python",
   "name": "python3"
  },
  "language_info": {
   "codemirror_mode": {
    "name": "ipython",
    "version": 3
   },
   "file_extension": ".py",
   "mimetype": "text/x-python",
   "name": "python",
   "nbconvert_exporter": "python",
   "pygments_lexer": "ipython3",
   "version": "3.12.4"
  }
 },
 "nbformat": 4,
 "nbformat_minor": 2
}
